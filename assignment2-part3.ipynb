{
 "cells": [
  {
   "cell_type": "code",
   "execution_count": null,
   "metadata": {
    "collapsed": true
   },
   "outputs": [],
   "source": [
    "import os\n",
    "import pandas as pd\n",
    "import numpy as np\n",
    "import json\n",
    "import urllib\n",
    "import requests\n",
    "import re\n",
    "from collections import defaultdict"
   ]
  },
  {
   "cell_type": "code",
   "execution_count": null,
   "metadata": {},
   "outputs": [],
   "source": [
    "#获取哪条线路经过哪个站点\n",
    "\n",
    "return_data=requests.get('http://service.shmetro.com/skin/js/pca.js')\n",
    "pauth = re.compile('var lines = {\\r\\n(.*?)\\r\\n}', re.S)\n",
    "tem=re.findall(pauth, return_data.text)\n",
    "#print(tem)\n",
    "tem1 = pd.DataFrame(re.split('[\\[:\\]\\r\\n]', tem[0]))\n",
    "tem1 = tem1[(tem1[0] != '') & (tem1[0] != ',')].reset_index(drop=True)\n",
    "line_sta = pd.DataFrame({'line': list(tem1[0][::2]), 'station': list(tem1[0][1::2])})\n"
   ]
  },
  {
   "cell_type": "code",
   "execution_count": null,
   "metadata": {},
   "outputs": [],
   "source": [
    "#获取站点的经纬度\n",
    "\n",
    "return_data = requests.get('http://service.shmetro.com/skin/js/pca.js')\n",
    "pauth1 = re.compile('var gis = {(.*?)}', re.S)\n",
    "tem3 = re.findall(pauth1, return_data.text)\n",
    "tem4 = pd.DataFrame(re.split(r':\"|,', tem3[0]))\n",
    "tem4 = tem4[tem4[0] != ''].reset_index(drop=True)\n",
    "#print(tem4)\n",
    "latlon = pd.DataFrame({'station': list(tem4[0][::3]), 'lat': list(tem4[0][1::3]), 'lon': list(tem4[0][2::3])})\n",
    "#print(len(latlon))"
   ]
  },
  {
   "cell_type": "code",
   "execution_count": null,
   "metadata": {},
   "outputs": [],
   "source": [
    "#获取站点代码跟名称\n",
    "return_data = requests.get('http://service.shmetro.com/skin/js/pca.js')\n",
    "pauth2=re.compile('var stations = {(.*?)}', re.S)\n",
    "tem5=re.findall(pauth2, return_data.text)\n",
    "tem6=pd.DataFrame(re.split(r':\"|,',tem5[0]))\n",
    "tem6 = tem6[tem6[0] != ''].reset_index(drop=True)\n",
    "stationname=pd.DataFrame({'station':list(tem6[0][::2]),'stationname':list(tem6[0][1::2])})\n",
    "#print(len(stationname))\n",
    "\n",
    "\n",
    "station_lines=pd.merge(stationname,line_sta,on=\"station\")\n"
   ]
  }
 ],
 "metadata": {
  "kernelspec": {
   "display_name": "Python 3",
   "language": "python",
   "name": "python3"
  },
  "language_info": {
   "codemirror_mode": {
    "name": "ipython",
    "version": 3
   },
   "file_extension": ".py",
   "mimetype": "text/x-python",
   "name": "python",
   "nbconvert_exporter": "python",
   "pygments_lexer": "ipython3",
   "version": "3.6.2"
  }
 },
 "nbformat": 4,
 "nbformat_minor": 1
}
